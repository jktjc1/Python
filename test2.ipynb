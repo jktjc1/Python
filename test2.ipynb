{
  "nbformat": 4,
  "nbformat_minor": 0,
  "metadata": {
    "colab": {
      "name": "Untitled0.ipynb",
      "provenance": [],
      "authorship_tag": "ABX9TyMGBzjQzVTuHNpeh+XGT7n4",
      "include_colab_link": true
    },
    "kernelspec": {
      "name": "python3",
      "display_name": "Python 3"
    }
  },
  "cells": [
    {
      "cell_type": "markdown",
      "metadata": {
        "id": "view-in-github",
        "colab_type": "text"
      },
      "source": [
        "<a href=\"https://colab.research.google.com/github/jktjc1/Python/blob/master/test2.ipynb\" target=\"_parent\"><img src=\"https://colab.research.google.com/assets/colab-badge.svg\" alt=\"Open In Colab\"/></a>"
      ]
    },
    {
      "cell_type": "markdown",
      "metadata": {
        "id": "eHKPWFisdgHk",
        "colab_type": "text"
      },
      "source": [
        "코드연습"
      ]
    },
    {
      "cell_type": "code",
      "metadata": {
        "id": "Lb5-ZZ1-bmtg",
        "colab_type": "code",
        "colab": {
          "base_uri": "https://localhost:8080/",
          "height": 34
        },
        "outputId": "c8bc8b07-fd39-427c-e107-406b79dfa56b"
      },
      "source": [
        "x=4444\n",
        "y=3333\n",
        "print(x+y)\n"
      ],
      "execution_count": 3,
      "outputs": [
        {
          "output_type": "stream",
          "text": [
            "7777\n"
          ],
          "name": "stdout"
        }
      ]
    },
    {
      "cell_type": "markdown",
      "metadata": {
        "id": "AXs3WdTid7kW",
        "colab_type": "text"
      },
      "source": [
        "연습해보자"
      ]
    }
  ]
}